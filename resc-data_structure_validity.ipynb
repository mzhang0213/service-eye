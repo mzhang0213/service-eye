{
 "cells": [
  {
   "cell_type": "code",
   "id": "initial_id",
   "metadata": {
    "collapsed": true,
    "ExecuteTime": {
     "end_time": "2025-07-19T20:26:02.242427Z",
     "start_time": "2025-07-19T20:26:02.208389Z"
    }
   },
   "source": [
    "import os\n",
    "import yaml"
   ],
   "outputs": [],
   "execution_count": 2
  },
  {
   "metadata": {
    "ExecuteTime": {
     "end_time": "2025-07-19T20:27:13.591864Z",
     "start_time": "2025-07-19T20:27:13.578917Z"
    }
   },
   "cell_type": "code",
   "source": [
    "CWD = os.getcwd()\n",
    "BASE_DIR = str(os.path.join(CWD,\"resources\"))\n",
    "DATA_DIR = \"yolodata\""
   ],
   "id": "b2b94afb40ce97ef",
   "outputs": [],
   "execution_count": 9
  },
  {
   "metadata": {
    "ExecuteTime": {
     "end_time": "2025-07-19T20:30:52.616972Z",
     "start_time": "2025-07-19T20:30:52.611013Z"
    }
   },
   "cell_type": "code",
   "source": [
    "#get key from data.yaml\n",
    "with open(\"data.yaml\", \"r\") as file:\n",
    "    # Use yaml.safe_load() to read the YAML data\n",
    "    data = yaml.safe_load(file)\n",
    "    cats_key = data[\"names\"]\n",
    "    cats_key = {str(v): k for k, v in cats_key.items()}"
   ],
   "id": "2f2284751fc74af",
   "outputs": [],
   "execution_count": 25
  },
  {
   "metadata": {
    "ExecuteTime": {
     "end_time": "2025-07-19T20:30:55.274297Z",
     "start_time": "2025-07-19T20:30:55.160806Z"
    }
   },
   "cell_type": "code",
   "source": [
    "#testing file structure validity\n",
    "final_train_images = sorted(os.listdir(str(os.path.join(BASE_DIR,DATA_DIR,\"train\",\"images\"))))\n",
    "final_train_labels = sorted(os.listdir(str(os.path.join(BASE_DIR,DATA_DIR,\"train\",\"labels\"))))\n",
    "final_test_images = sorted(os.listdir(str(os.path.join(BASE_DIR,DATA_DIR,\"val\",\"images\"))))\n",
    "final_test_labels = sorted(os.listdir(str(os.path.join(BASE_DIR,DATA_DIR,\"val\",\"labels\"))))\n",
    "\n",
    "for i in range(len(final_train_images)):\n",
    "    if final_train_images[i][:-4] != final_train_labels[i][:-4]:\n",
    "        print(i,final_train_images[i],final_train_labels[i])\n",
    "\n",
    "print(\"\\n\\n\")\n",
    "\n",
    "for i in range(len(final_test_images)):\n",
    "    if final_test_images[i][:-4] != final_test_labels[i][:-4]:\n",
    "        print(i,final_test_images[i],final_test_labels[i])"
   ],
   "id": "341d6a9aee7b3016",
   "outputs": [
    {
     "name": "stdout",
     "output_type": "stream",
     "text": [
      "\n",
      "\n",
      "\n"
     ]
    }
   ],
   "execution_count": 26
  },
  {
   "metadata": {
    "ExecuteTime": {
     "end_time": "2025-07-19T20:30:55.836937Z",
     "start_time": "2025-07-19T20:30:55.832583Z"
    }
   },
   "cell_type": "code",
   "source": [
    "pt = 552\n",
    "offs = 0\n",
    "print(final_train_images[pt - offs - 1], final_train_labels[pt - offs - 1])\n",
    "print(final_train_images[pt - offs], final_train_labels[pt - offs])\n",
    "print(final_train_images[pt - offs + 1], final_train_labels[pt - offs + 1])"
   ],
   "id": "e13a2218d3516ebb",
   "outputs": [
    {
     "name": "stdout",
     "output_type": "stream",
     "text": [
      "189d6de1-6cb6875e.jpg 189d6de1-6cb6875e.txt\n",
      "18c4d009-fbd1c391.jpg 18c4d009-fbd1c391.txt\n",
      "18ca8efa-4f73df88.jpg 18ca8efa-4f73df88.txt\n"
     ]
    }
   ],
   "execution_count": 27
  },
  {
   "metadata": {
    "ExecuteTime": {
     "end_time": "2025-07-19T20:31:08.795409Z",
     "start_time": "2025-07-19T20:31:07.966175Z"
    }
   },
   "cell_type": "code",
   "source": [
    "#testing data makeup\n",
    "\n",
    "makeups = {str(v): 0 for k, v in cats_key.items()}\n",
    "for i in range(len(final_train_labels)):\n",
    "    with open(os.path.join(CWD, \"resources\", DATA_DIR, \"train\", \"labels\", final_train_labels[i]), \"r\") as f:\n",
    "        for line in f:\n",
    "            cat = str(line.split(\" \")[0])\n",
    "            makeups[str(cat)] += 1\n",
    "print(makeups)"
   ],
   "id": "3296223036596359",
   "outputs": [
    {
     "name": "stdout",
     "output_type": "stream",
     "text": [
      "{'0': 0, '1': 993, '10': 430, '11': 158, '12': 5, '2': 660, '3': 0, '4': 2367, '5': 2868, '6': 16176, '7': 1082, '8': 1095, '9': 76}\n"
     ]
    }
   ],
   "execution_count": 29
  },
  {
   "metadata": {},
   "cell_type": "code",
   "outputs": [],
   "execution_count": null,
   "source": "",
   "id": "ba3e2d1d16611864"
  }
 ],
 "metadata": {
  "kernelspec": {
   "display_name": "Python 3",
   "language": "python",
   "name": "python3"
  },
  "language_info": {
   "codemirror_mode": {
    "name": "ipython",
    "version": 2
   },
   "file_extension": ".py",
   "mimetype": "text/x-python",
   "name": "python",
   "nbconvert_exporter": "python",
   "pygments_lexer": "ipython2",
   "version": "2.7.6"
  }
 },
 "nbformat": 4,
 "nbformat_minor": 5
}
