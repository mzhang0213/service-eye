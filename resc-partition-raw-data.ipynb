{
 "cells": [
  {
   "cell_type": "code",
   "id": "initial_id",
   "metadata": {
    "collapsed": true,
    "ExecuteTime": {
     "end_time": "2025-07-19T15:13:31.706702Z",
     "start_time": "2025-07-19T15:13:31.682933Z"
    }
   },
   "source": [
    "import os\n",
    "import shutil\n",
    "import random"
   ],
   "outputs": [],
   "execution_count": 6
  },
  {
   "metadata": {
    "ExecuteTime": {
     "end_time": "2025-07-19T15:13:31.858649Z",
     "start_time": "2025-07-19T15:13:31.854913Z"
    }
   },
   "cell_type": "code",
   "source": [
    "# open files\n",
    "CWD = os.getcwd()\n",
    "dimensions = [\"images\",\"raw-labels\"]\n",
    "dimensions_types = [\".jpg\",\".json\"]\n",
    "file_dimensions = [\"train\",\"test\",\"val\"]\n",
    "RAW_DIR = \"bdd\"\n",
    "DATA_DIR = \"yolodata\""
   ],
   "id": "6dde17d4db658a78",
   "outputs": [],
   "execution_count": 7
  },
  {
   "metadata": {
    "ExecuteTime": {
     "end_time": "2025-07-19T15:13:32.067177Z",
     "start_time": "2025-07-19T15:13:32.063256Z"
    }
   },
   "cell_type": "code",
   "source": [
    "def make_copy(dimension,file_dimension,filename):\n",
    "    from_file = os.path.join(CWD,\"resources\",\"bdd\",dimension,file_dimension,filename)\n",
    "    to_file = os.path.join(CWD,\"resources\",DATA_DIR,dimension,file_dimension)\n",
    "    if not os.path.exists(to_file):\n",
    "        os.makedirs(to_file)\n",
    "    shutil.copy(from_file,to_file)\n"
   ],
   "id": "ce2a90b5164b7b2b",
   "outputs": [],
   "execution_count": 8
  },
  {
   "metadata": {
    "ExecuteTime": {
     "end_time": "2025-07-19T15:13:32.412115Z",
     "start_time": "2025-07-19T15:13:32.409030Z"
    }
   },
   "cell_type": "code",
   "source": [
    "#given array choose rnd index\n",
    "def choose_rnd(list, inds):\n",
    "    ind = random.randint(0,len(list)-1)\n",
    "    return ind if ind not in inds else choose_rnd(list, inds)\n"
   ],
   "id": "eecaaeb3b896b735",
   "outputs": [],
   "execution_count": 9
  },
  {
   "metadata": {
    "ExecuteTime": {
     "end_time": "2025-07-19T15:13:40.822296Z",
     "start_time": "2025-07-19T15:13:32.834305Z"
    }
   },
   "cell_type": "code",
   "source": [
    "for fd in file_dimensions:\n",
    "    paths_train = (sorted(os.listdir(str(os.path.join(CWD,\"resources\",RAW_DIR,\"images\",fd)))))\n",
    "    \n",
    "    print(len(paths_train))\n",
    "\n",
    "    inds = []\n",
    "\n",
    "    rng = 5000\n",
    "    if fd == \"train\":\n",
    "        rng = 4000\n",
    "    else:\n",
    "        rng = 2000\n",
    "\n",
    "    for i in range(rng):\n",
    "        inds.append(choose_rnd(paths_train, inds))\n",
    "\n",
    "    sample_files = []\n",
    "    for i in inds:\n",
    "        file = paths_train[i]\n",
    "        file = file[:-4] #remove extension\n",
    "        sample_files.append(file)\n",
    "\n",
    "    for i in range(len(sample_files)):\n",
    "        for d in range(len(dimensions)):\n",
    "            make_copy(dimensions[d],fd,sample_files[i]+dimensions_types[d])"
   ],
   "id": "6037a35c1de5539d",
   "outputs": [
    {
     "name": "stdout",
     "output_type": "stream",
     "text": [
      "70000\n",
      "20000\n",
      "10000\n"
     ]
    }
   ],
   "execution_count": 10
  },
  {
   "metadata": {},
   "cell_type": "code",
   "outputs": [],
   "execution_count": null,
   "source": "",
   "id": "5a0b11b7f4124a42"
  }
 ],
 "metadata": {
  "kernelspec": {
   "display_name": "Python 3",
   "language": "python",
   "name": "python3"
  },
  "language_info": {
   "codemirror_mode": {
    "name": "ipython",
    "version": 2
   },
   "file_extension": ".py",
   "mimetype": "text/x-python",
   "name": "python",
   "nbconvert_exporter": "python",
   "pygments_lexer": "ipython2",
   "version": "2.7.6"
  }
 },
 "nbformat": 4,
 "nbformat_minor": 5
}
