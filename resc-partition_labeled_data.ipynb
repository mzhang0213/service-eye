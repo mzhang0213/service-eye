{
 "cells": [
  {
   "metadata": {
    "ExecuteTime": {
     "end_time": "2025-07-08T06:07:12.938212Z",
     "start_time": "2025-07-08T06:07:12.935Z"
    }
   },
   "cell_type": "code",
   "source": [
    "import shutil\n",
    "import cv2\n",
    "import os\n"
   ],
   "id": "da46f51b4657cbc7",
   "outputs": [],
   "execution_count": 7
  },
  {
   "metadata": {
    "ExecuteTime": {
     "end_time": "2025-07-08T07:24:03.791815Z",
     "start_time": "2025-07-08T07:24:03.784669Z"
    }
   },
   "cell_type": "code",
   "source": [
    "CWD = os.getcwd()\n",
    "BASE_DIR = os.path.join(CWD,\"resources\")\n",
    "cities = [\"la_lower\",\"shanghai\"]\n",
    "\n",
    "img_dir = os.path.join(BASE_DIR,\"city\",\"preprocessed\",\"images\")\n",
    "labels_dir = os.path.join(BASE_DIR,\"city\",\"preprocessed\",\"labels\")\n",
    "yolo_imgs_dir = os.path.join(BASE_DIR,\"yolodata\",\"images\")\n",
    "yolo_labels_dir = os.path.join(BASE_DIR,\"yolodata\",\"labels\")"
   ],
   "id": "9c437cddc7266f63",
   "outputs": [],
   "execution_count": 13
  },
  {
   "metadata": {
    "ExecuteTime": {
     "end_time": "2025-07-08T07:24:25.157339Z",
     "start_time": "2025-07-08T07:24:25.108894Z"
    }
   },
   "cell_type": "code",
   "source": "total_imgs = sum(len(os.listdir(str(os.path.join(img_dir,cities[i])))) for i in range(len(cities)))",
   "id": "8d893857e9d5bc72",
   "outputs": [],
   "execution_count": 15
  },
  {
   "metadata": {
    "ExecuteTime": {
     "end_time": "2025-07-08T06:07:37.600863Z",
     "start_time": "2025-07-08T06:07:37.598624Z"
    }
   },
   "cell_type": "code",
   "source": "print(imgs_paths)",
   "id": "ff1f3118108f1b4e",
   "outputs": [
    {
     "name": "stdout",
     "output_type": "stream",
     "text": [
      "['shanghai', '.DS_Store', 'la_lower']\n"
     ]
    }
   ],
   "execution_count": 11
  },
  {
   "metadata": {},
   "cell_type": "code",
   "outputs": [],
   "execution_count": null,
   "source": "",
   "id": "119596f2769d9139"
  }
 ],
 "metadata": {
  "kernelspec": {
   "display_name": "Python 3",
   "language": "python",
   "name": "python3"
  },
  "language_info": {
   "codemirror_mode": {
    "name": "ipython",
    "version": 2
   },
   "file_extension": ".py",
   "mimetype": "text/x-python",
   "name": "python",
   "nbconvert_exporter": "python",
   "pygments_lexer": "ipython2",
   "version": "2.7.6"
  }
 },
 "nbformat": 4,
 "nbformat_minor": 5
}
