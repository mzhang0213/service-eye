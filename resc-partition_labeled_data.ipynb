{
 "cells": [
  {
   "metadata": {
    "ExecuteTime": {
     "end_time": "2025-07-19T06:57:15.349386Z",
     "start_time": "2025-07-19T06:57:15.169526Z"
    }
   },
   "cell_type": "code",
   "source": [
    "import shutil\n",
    "import cv2\n",
    "import os\n"
   ],
   "id": "da46f51b4657cbc7",
   "outputs": [],
   "execution_count": 1
  },
  {
   "metadata": {
    "ExecuteTime": {
     "end_time": "2025-07-19T06:57:15.355082Z",
     "start_time": "2025-07-19T06:57:15.352330Z"
    }
   },
   "cell_type": "code",
   "source": [
    "CWD = os.getcwd()\n",
    "BASE_DIR = os.path.join(CWD,\"resources\")\n",
    "cities = [\"la_lower\",\"shanghai\"]\n",
    "\n",
    "img_dir = os.path.join(BASE_DIR,\"city\",\"preprocessed\",\"images\")\n",
    "labels_dir = os.path.join(BASE_DIR,\"city\",\"preprocessed\",\"labels\")\n",
    "yolo_imgs_dir = os.path.join(BASE_DIR,\"yolodata\",\"images\")\n",
    "yolo_labels_dir = os.path.join(BASE_DIR,\"yolodata\",\"labels\")"
   ],
   "id": "9c437cddc7266f63",
   "outputs": [],
   "execution_count": 2
  },
  {
   "metadata": {
    "ExecuteTime": {
     "end_time": "2025-07-19T06:58:46.328984Z",
     "start_time": "2025-07-19T06:58:46.324274Z"
    }
   },
   "cell_type": "code",
   "source": "total_imgs = sum(len(os.listdir(str(os.path.join(img_dir,cities[i])))) for i in range(len(cities)))",
   "id": "8d893857e9d5bc72",
   "outputs": [],
   "execution_count": 4
  }
 ],
 "metadata": {
  "kernelspec": {
   "display_name": "Python 3",
   "language": "python",
   "name": "python3"
  },
  "language_info": {
   "codemirror_mode": {
    "name": "ipython",
    "version": 2
   },
   "file_extension": ".py",
   "mimetype": "text/x-python",
   "name": "python",
   "nbconvert_exporter": "python",
   "pygments_lexer": "ipython2",
   "version": "2.7.6"
  }
 },
 "nbformat": 4,
 "nbformat_minor": 5
}
